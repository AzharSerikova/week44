{
 "cells": [
  {
   "cell_type": "code",
   "execution_count": 1,
   "metadata": {},
   "outputs": [
    {
     "name": "stdout",
     "output_type": "stream",
     "text": [
      "[[' ', 0.143, '111']]\n",
      "[['d', 0.143, '110']]\n",
      "[['a', 0.143, '10']]\n",
      "[['e', 0.286, '01']]\n",
      "[['b', 0.286, '00']]\n"
     ]
    }
   ],
   "source": [
    "Code = []\n",
    "file = open(\"text.txt\", encoding='utf8')\n",
    "text = file.read().lower()\n",
    "file.close()\n",
    "d = {}\n",
    "for i in text:\n",
    "    if i not in '!—,.-?...()—:;«»\\n':\n",
    "        d[i] = d.get(i, 0) + 1\n",
    "sum_sim = sum(d.values())\n",
    "for i in d:\n",
    "    d[i] = round(d[i] / sum_sim, 3)\n",
    "d = sorted(d.items(), key=lambda x: x[1], reverse=True)\n",
    "arr = []\n",
    "for i in d:\n",
    "    arr.append(list(i) + ['']) \n",
    "\n",
    "def func(arr):\n",
    "    half = sum(map(lambda x: x[1], arr))\n",
    "    sum1 = 0\n",
    "    for i, j in enumerate(arr):\n",
    "        sum1 += j[1]\n",
    "        if sum1 * 2 >= half:\n",
    "            index = i + (abs(2 * sum1 - half) < abs(2 * (sum1 - j[1]) - half))\n",
    "            break\n",
    "    arr0, arr1 = [], []\n",
    "    for i in arr[:index]:\n",
    "        i[2] += '0'\n",
    "        arr0.append(i)\n",
    "    for i in arr[index:]:\n",
    "        i[2] += '1'\n",
    "        arr1.append(i)\n",
    " \n",
    "    if len(arr1) == 1:\n",
    "        Code.append(arr1)\n",
    "    else:\n",
    "        func(arr1)\n",
    "    if len(arr0) == 1:\n",
    "        Code.append(arr0)\n",
    "    else:\n",
    "        func(arr0)\n",
    " \n",
    "func(arr)\n",
    "for i in Code:\n",
    "    print(i)"
   ]
  },
  {
   "cell_type": "code",
   "execution_count": 2,
   "metadata": {},
   "outputs": [],
   "source": [
    "with open('text.txt') as f:\n",
    "    txt = f.read()"
   ]
  },
  {
   "cell_type": "code",
   "execution_count": 3,
   "metadata": {},
   "outputs": [
    {
     "data": {
      "text/plain": [
       "6"
      ]
     },
     "execution_count": 3,
     "metadata": {},
     "output_type": "execute_result"
    }
   ],
   "source": [
    "txt = [x for x in txt]\n",
    "txt = set(txt)\n",
    "len(txt)"
   ]
  },
  {
   "cell_type": "code",
   "execution_count": 4,
   "metadata": {},
   "outputs": [
    {
     "data": {
      "text/plain": [
       "{'\\n', ' ', 'a', 'b', 'd', 'e'}"
      ]
     },
     "execution_count": 4,
     "metadata": {},
     "output_type": "execute_result"
    }
   ],
   "source": [
    "txt"
   ]
  },
  {
   "cell_type": "code",
   "execution_count": 5,
   "metadata": {},
   "outputs": [],
   "source": [
    "with open('text.txt') as f:\n",
    "    txt = f.read()"
   ]
  },
  {
   "cell_type": "code",
   "execution_count": 6,
   "metadata": {},
   "outputs": [
    {
     "data": {
      "text/plain": [
       "8"
      ]
     },
     "execution_count": 6,
     "metadata": {},
     "output_type": "execute_result"
    }
   ],
   "source": [
    "len(txt)"
   ]
  },
  {
   "cell_type": "code",
   "execution_count": 7,
   "metadata": {},
   "outputs": [],
   "source": [
    "d = {}\n",
    "for x in txt:\n",
    "     d[x] = d.get(x, 0) + 1"
   ]
  },
  {
   "cell_type": "code",
   "execution_count": 8,
   "metadata": {},
   "outputs": [
    {
     "data": {
      "text/plain": [
       "{'b': 2, 'e': 2, 'a': 1, 'd': 1, ' ': 1, '\\n': 1}"
      ]
     },
     "execution_count": 8,
     "metadata": {},
     "output_type": "execute_result"
    }
   ],
   "source": [
    "d"
   ]
  },
  {
   "cell_type": "code",
   "execution_count": 9,
   "metadata": {},
   "outputs": [
    {
     "name": "stdout",
     "output_type": "stream",
     "text": [
      "{'b': 0.25, 'e': 0.25, 'a': 0.125, 'd': 0.125, ' ': 0.125, '\\n': 0.125}\n"
     ]
    }
   ],
   "source": [
    "prob_dict = {}\n",
    "for k, v in d.items():\n",
    "    prob_dict[k] = round(v / sum(d.values()), 3)\n",
    "print(prob_dict)"
   ]
  },
  {
   "cell_type": "code",
   "execution_count": 10,
   "metadata": {},
   "outputs": [
    {
     "data": {
      "text/plain": [
       "[('b', 0.25),\n",
       " ('e', 0.25),\n",
       " ('a', 0.125),\n",
       " ('d', 0.125),\n",
       " (' ', 0.125),\n",
       " ('\\n', 0.125)]"
      ]
     },
     "execution_count": 10,
     "metadata": {},
     "output_type": "execute_result"
    }
   ],
   "source": [
    "sorted_var = sorted(prob_dict.items(), key=lambda x: x[1], reverse=True)\n",
    "sorted_var"
   ]
  },
  {
   "cell_type": "code",
   "execution_count": 11,
   "metadata": {
    "scrolled": true
   },
   "outputs": [
    {
     "name": "stdout",
     "output_type": "stream",
     "text": [
      "['b', 0.286, '0']\n",
      "['e', 0.286, '0']\n",
      "['a', 0.143, '1']\n",
      "['d', 0.143, '1']\n",
      "[' ', 0.143, '1']\n",
      "['a', 0.143, '10']\n",
      "['d', 0.143, '11']\n",
      "[' ', 0.143, '11']\n",
      "['d', 0.143, '110']\n",
      "[' ', 0.143, '111']\n",
      "['b', 0.286, '00']\n",
      "['e', 0.286, '01']\n"
     ]
    }
   ],
   "source": [
    "Code = []\n",
    "file = open(\"text.txt\", encoding='utf8')\n",
    "text = file.read().lower()\n",
    "file.close()\n",
    "d = {}\n",
    "for i in text:\n",
    "    if i not in '!—,.-?...()—:;«»\\n':\n",
    "        d[i] = d.get(i, 0) + 1\n",
    "sum_sim = sum(d.values())\n",
    "for i in d:\n",
    "    d[i] = round(d[i] / sum_sim, 3)\n",
    "d = sorted(d.items(), key=lambda x: x[1], reverse=True)\n",
    "arr=[]\n",
    "for i in d:\n",
    "    arr.append(list(i) + [''])    \n",
    "def func(arr):\n",
    "    half = sum(map(lambda x: x[1], arr))\n",
    "    sum1 = 0\n",
    "    \n",
    "    for i, j in enumerate(arr):\n",
    "        sum1 += j[1]\n",
    "        if sum1 * 2 >= half:\n",
    "            index = i + (abs(2 * sum1 - half) < abs(2 * (sum1 - j[1]) - half))\n",
    "            break\n",
    "    arr0, arr1 = [], []\n",
    "    for i in arr[:index]:\n",
    "        i[2] += '0'\n",
    "        arr0.append(i)\n",
    "        print(i)\n",
    "    for i in arr[index:]:\n",
    "        i[2] += '1'\n",
    "        arr1.append(i)\n",
    "        print(i)\n",
    "    if len(arr1) == 1:\n",
    "        Code.append(arr1)\n",
    "    else:\n",
    "        func(arr1)\n",
    "    if len(arr0) == 1:\n",
    "        Code.append(arr0)\n",
    "    else:\n",
    "        func(arr0)\n",
    "        \n",
    "        \n",
    "func(arr)"
   ]
  },
  {
   "cell_type": "code",
   "execution_count": 12,
   "metadata": {},
   "outputs": [
    {
     "name": "stdout",
     "output_type": "stream",
     "text": [
      "[[' ', 0.143, '111']]\n",
      "[['d', 0.143, '110']]\n",
      "[['a', 0.143, '10']]\n",
      "[['e', 0.286, '01']]\n",
      "[['b', 0.286, '00']]\n"
     ]
    }
   ],
   "source": [
    "for i in Code:\n",
    "    print(i)"
   ]
  },
  {
   "cell_type": "code",
   "execution_count": 13,
   "metadata": {},
   "outputs": [
    {
     "data": {
      "text/plain": [
       "[['b', 0.286, '00'],\n",
       " ['e', 0.286, '01'],\n",
       " ['a', 0.143, '10'],\n",
       " ['d', 0.143, '110'],\n",
       " [' ', 0.143, '111']]"
      ]
     },
     "execution_count": 13,
     "metadata": {},
     "output_type": "execute_result"
    }
   ],
   "source": [
    "arr"
   ]
  },
  {
   "cell_type": "code",
   "execution_count": 34,
   "metadata": {},
   "outputs": [],
   "source": [
    "arrf =[]"
   ]
  },
  {
   "cell_type": "code",
   "execution_count": 41,
   "metadata": {},
   "outputs": [],
   "source": [
    "arrf.append(arr[0][2])\n",
    "arrf.append(arr[1][2])\n",
    "arrf.append(arr[2][2])\n",
    "arrf.append(arr[3][2])\n",
    "arrf.append(arr[2][2])\n",
    "arrf.append(arr[0][2])\n",
    "arrf.append(arr[1][2])"
   ]
  },
  {
   "cell_type": "code",
   "execution_count": 42,
   "metadata": {},
   "outputs": [
    {
     "data": {
      "text/plain": [
       "['00', '01', '10', '110', '10', '110', '10', '00', '01']"
      ]
     },
     "execution_count": 42,
     "metadata": {},
     "output_type": "execute_result"
    }
   ],
   "source": [
    "arrf"
   ]
  },
  {
   "cell_type": "code",
   "execution_count": 46,
   "metadata": {},
   "outputs": [
    {
     "name": "stdout",
     "output_type": "stream",
     "text": [
      "00011011010110100001\n"
     ]
    }
   ],
   "source": [
    "full_data = ''.join(arrf)\n",
    "print(full_data)"
   ]
  },
  {
   "cell_type": "code",
   "execution_count": null,
   "metadata": {},
   "outputs": [],
   "source": []
  }
 ],
 "metadata": {
  "kernelspec": {
   "display_name": "Python 3",
   "language": "python",
   "name": "python3"
  },
  "language_info": {
   "codemirror_mode": {
    "name": "ipython",
    "version": 3
   },
   "file_extension": ".py",
   "mimetype": "text/x-python",
   "name": "python",
   "nbconvert_exporter": "python",
   "pygments_lexer": "ipython3",
   "version": "3.8.5"
  }
 },
 "nbformat": 4,
 "nbformat_minor": 4
}
